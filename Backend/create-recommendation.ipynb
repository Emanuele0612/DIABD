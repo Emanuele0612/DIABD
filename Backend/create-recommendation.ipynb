{
 "cells": [
  {
   "cell_type": "code",
   "execution_count": 1,
   "id": "4cbd838d",
   "metadata": {
    "ExecuteTime": {
     "end_time": "2024-06-08T14:03:48.639818Z",
     "start_time": "2024-06-08T14:03:47.756485Z"
    }
   },
   "outputs": [],
   "source": [
    "from pyspark.sql import SparkSession\n",
    "from pyspark.sql.functions import col\n",
    "from pyspark.ml.recommendation import ALS, ALSModel\n",
    "from pyspark.ml.evaluation import RegressionEvaluator\n",
    "from pyspark.ml.tuning import CrossValidator, ParamGridBuilder\n",
    "from pyspark.ml import Pipeline\n",
    "from neo4j import GraphDatabase"
   ]
  },
  {
   "cell_type": "code",
   "execution_count": 2,
   "id": "fb2a7eb8",
   "metadata": {
    "ExecuteTime": {
     "end_time": "2024-06-08T14:05:42.302234Z",
     "start_time": "2024-06-08T14:05:04.029895Z"
    }
   },
   "outputs": [
    {
     "name": "stderr",
     "output_type": "stream",
     "text": [
      "Setting default log level to \"WARN\".\n",
      "To adjust logging level use sc.setLogLevel(newLevel). For SparkR, use setLogLevel(newLevel).\n",
      "25/05/26 10:14:00 WARN NativeCodeLoader: Unable to load native-hadoop library for your platform... using builtin-java classes where applicable\n",
      "25/05/26 10:14:07 WARN Client: Neither spark.yarn.jars nor spark.yarn.archive is set, falling back to uploading libraries under SPARK_HOME.\n"
     ]
    }
   ],
   "source": [
    "# Init Spark\n",
    "\n",
    "spark = SparkSession.builder \\\n",
    "    .master(\"yarn\") \\\n",
    "    .config(\"spark.executor.instances\", \"2\") \\\n",
    "    .config(\"spark.executor.memory\", \"4g\") \\\n",
    "    .config(\"spark.driver.memory\", \"2g\") \\\n",
    "    .config(\"spark.locality.wait.node\", \"0\") \\\n",
    "    .appName(\"InitAnimeRecommendation\") \\\n",
    "    .getOrCreate()\n"
   ]
  },
  {
   "cell_type": "code",
   "execution_count": 3,
   "id": "8ff2874f",
   "metadata": {
    "ExecuteTime": {
     "end_time": "2024-06-08T14:06:24.648821Z",
     "start_time": "2024-06-08T14:05:54.456704Z"
    }
   },
   "outputs": [
    {
     "name": "stderr",
     "output_type": "stream",
     "text": [
      "                                                                                "
     ]
    }
   ],
   "source": [
    "# Load data from HDFS\n",
    "ratings_path = \"hdfs:///dataset/users-score-2023.csv\"\n",
    "anime_path = \"hdfs:///dataset/anime-filtered.csv\"\n",
    "users_path = \"hdfs:///dataset/users-details-2023.csv\"\n",
    "\n",
    "ratings = spark.read.csv(ratings_path, header=True, inferSchema=True)\n",
    "anime = spark.read.csv(anime_path, header=True, inferSchema=True)\n",
    "users = spark.read.csv(users_path, header=True, inferSchema=True)"
   ]
  },
  {
   "cell_type": "code",
   "execution_count": 4,
   "id": "62931506",
   "metadata": {
    "ExecuteTime": {
     "end_time": "2024-06-08T14:06:41.505166Z",
     "start_time": "2024-06-08T14:06:24.665029Z"
    }
   },
   "outputs": [
    {
     "name": "stdout",
     "output_type": "stream",
     "text": [
      "ratings dataset schema:\n",
      "root\n",
      " |-- user_id: integer (nullable = true)\n",
      " |-- Username: string (nullable = true)\n",
      " |-- anime_id: integer (nullable = true)\n",
      " |-- Anime Title: string (nullable = true)\n",
      " |-- rating: string (nullable = true)\n",
      "\n",
      "First 10 rows of ratings dataset:\n",
      "+-------+--------+--------+--------------------+------+\n",
      "|user_id|Username|anime_id|         Anime Title|rating|\n",
      "+-------+--------+--------+--------------------+------+\n",
      "|      1|   Xinil|      21|           One Piece|     9|\n",
      "|      1|   Xinil|      48|         .hack//Sign|     7|\n",
      "|      1|   Xinil|     320|              A Kite|     5|\n",
      "|      1|   Xinil|      49|    Aa! Megami-sama!|     8|\n",
      "|      1|   Xinil|     304|Aa! Megami-sama! ...|     8|\n",
      "|      1|   Xinil|     306|Abenobashi Mahou☆...|     8|\n",
      "|      1|   Xinil|      53|       Ai Yori Aoshi|     7|\n",
      "|      1|   Xinil|      47|               Akira|     5|\n",
      "|      1|   Xinil|     591|      Amaenaide yo!!|     6|\n",
      "|      1|   Xinil|      54|   Appleseed (Movie)|     7|\n",
      "+-------+--------+--------+--------------------+------+\n",
      "only showing top 10 rows\n",
      "\n",
      "First 10 rows of ratings after selection:\n",
      "+-------+--------+------+\n",
      "|user_id|anime_id|rating|\n",
      "+-------+--------+------+\n",
      "|      1|      21|     9|\n",
      "|      1|      48|     7|\n",
      "|      1|     320|     5|\n",
      "|      1|      49|     8|\n",
      "|      1|     304|     8|\n",
      "|      1|     306|     8|\n",
      "|      1|      53|     7|\n",
      "|      1|      47|     5|\n",
      "|      1|     591|     6|\n",
      "|      1|      54|     7|\n",
      "+-------+--------+------+\n",
      "only showing top 10 rows\n",
      "\n"
     ]
    },
    {
     "name": "stderr",
     "output_type": "stream",
     "text": [
      "                                                                                "
     ]
    },
    {
     "name": "stdout",
     "output_type": "stream",
     "text": [
      "Number of duplicate records: 0\n"
     ]
    },
    {
     "name": "stderr",
     "output_type": "stream",
     "text": [
      "                                                                                "
     ]
    },
    {
     "name": "stdout",
     "output_type": "stream",
     "text": [
      "Ratings range: [ Doushite Konna Otoko ni......\"\"\", 9]\n"
     ]
    },
    {
     "name": "stderr",
     "output_type": "stream",
     "text": [
      "                                                                                "
     ]
    },
    {
     "name": "stdout",
     "output_type": "stream",
     "text": [
      "Number of users: 270033\n"
     ]
    },
    {
     "name": "stderr",
     "output_type": "stream",
     "text": [
      "                                                                                "
     ]
    },
    {
     "name": "stdout",
     "output_type": "stream",
     "text": [
      "Number of anime: 16500\n"
     ]
    },
    {
     "name": "stderr",
     "output_type": "stream",
     "text": [
      "[Stage 35:===================================================>      (8 + 1) / 9]"
     ]
    },
    {
     "name": "stdout",
     "output_type": "stream",
     "text": [
      "Total ratings: 24325191\n"
     ]
    },
    {
     "name": "stderr",
     "output_type": "stream",
     "text": [
      "                                                                                "
     ]
    }
   ],
   "source": [
    "# EDA for ratings dataset\n",
    "print(\"ratings dataset schema:\")\n",
    "ratings.printSchema()\n",
    "\n",
    "print(\"First 10 rows of ratings dataset:\")\n",
    "ratings.show(10)\n",
    "\n",
    "# Delete timestamp column\n",
    "ratings = ratings.select(\"user_id\", \"anime_id\", \"rating\")\n",
    "print(\"First 10 rows of ratings after selection:\")\n",
    "ratings.show(10)\n",
    "\n",
    "# Check duplicates\n",
    "dropped_duplicates = ratings.dropDuplicates()\n",
    "duplicate_count = ratings.count() - dropped_duplicates.count()\n",
    "print(f\"Number of duplicate records: {duplicate_count}\")\n",
    "\n",
    "#Print range for rating values\n",
    "min_rating = ratings.agg({\"rating\": \"min\"}).collect()[0][0]\n",
    "max_rating = ratings.agg({\"rating\": \"max\"}).collect()[0][0]\n",
    "print(f\"Ratings range: [{min_rating}, {max_rating}]\")\n",
    "\n",
    "# Print total number of users\n",
    "num_users = ratings.select(\"user_id\").distinct().count()\n",
    "print(f\"Number of users: {num_users}\")\n",
    "\n",
    "# Print total number of anime\n",
    "num_anime = ratings.select(\"anime_id\").distinct().count()\n",
    "print(f\"Number of anime: {num_anime}\")\n",
    "\n",
    "# Print total number of ratings\n",
    "print(\"Total ratings:\", ratings.count())"
   ]
  },
  {
   "cell_type": "code",
   "execution_count": 5,
   "id": "0852f54a-0fa7-4edf-b066-4e6256316c83",
   "metadata": {},
   "outputs": [
    {
     "name": "stderr",
     "output_type": "stream",
     "text": [
      "[Stage 38:===================================================>      (8 + 1) / 9]"
     ]
    },
    {
     "name": "stdout",
     "output_type": "stream",
     "text": [
      "Total ratings after sampling: 244390\n"
     ]
    },
    {
     "name": "stderr",
     "output_type": "stream",
     "text": [
      "                                                                                "
     ]
    }
   ],
   "source": [
    "# Calcolo della frazione di campionamento\n",
    "fraction = 1/100  # 0.01\n",
    "\n",
    "# Esegui il campionamento\n",
    "ratings_sampled = ratings.sample(withReplacement=False, fraction=fraction, seed=42).cache()\n",
    "\n",
    "# Print total number of ratings\n",
    "print(\"Total ratings after sampling:\", ratings_sampled.count())"
   ]
  },
  {
   "cell_type": "code",
   "execution_count": 6,
   "id": "0f1a9520-54f6-41cf-80e5-e04b9318acf2",
   "metadata": {},
   "outputs": [
    {
     "name": "stdout",
     "output_type": "stream",
     "text": [
      "+-------------------+\n",
      "|             rating|\n",
      "+-------------------+\n",
      "|                  7|\n",
      "|                  3|\n",
      "|                  8|\n",
      "|          Igi Ari!\"|\n",
      "|                  5|\n",
      "|                  6|\n",
      "| Igi Ari! Season 2\"|\n",
      "|                  9|\n",
      "|                  1|\n",
      "|                 10|\n",
      "|                  4|\n",
      "|                  2|\n",
      "+-------------------+\n",
      "\n"
     ]
    }
   ],
   "source": [
    "ratings_sampled.select(\"rating\").distinct().show()"
   ]
  },
  {
   "cell_type": "code",
   "execution_count": 7,
   "id": "5d6cef9d-44e6-40b1-a751-8998a1f22745",
   "metadata": {},
   "outputs": [],
   "source": [
    "users = users.select(\"Mal ID\", \"Username\")\n",
    "users = users.withColumnRenamed(\"Mal ID\", \"user_id\")"
   ]
  },
  {
   "cell_type": "code",
   "execution_count": 8,
   "id": "ad7bbbcc-12ca-45eb-880d-79e9299a38fc",
   "metadata": {
    "ExecuteTime": {
     "end_time": "2024-06-08T14:07:06.561334Z",
     "start_time": "2024-06-08T14:07:05.444395Z"
    }
   },
   "outputs": [
    {
     "name": "stdout",
     "output_type": "stream",
     "text": [
      "anime dataset schema:\n",
      "root\n",
      " |-- anime_id: integer (nullable = true)\n",
      " |-- Name: string (nullable = true)\n",
      " |-- Score: string (nullable = true)\n",
      " |-- Genres: string (nullable = true)\n",
      " |-- English name: string (nullable = true)\n",
      " |-- Japanese name: string (nullable = true)\n",
      " |-- sypnopsis: string (nullable = true)\n",
      " |-- Type: string (nullable = true)\n",
      " |-- Episodes: string (nullable = true)\n",
      " |-- Aired: string (nullable = true)\n",
      " |-- Premiered: string (nullable = true)\n",
      " |-- Producers: string (nullable = true)\n",
      " |-- Licensors: string (nullable = true)\n",
      " |-- Studios: string (nullable = true)\n",
      " |-- Source: string (nullable = true)\n",
      " |-- Duration: string (nullable = true)\n",
      " |-- Rating: string (nullable = true)\n",
      " |-- Ranked: string (nullable = true)\n",
      " |-- Popularity: string (nullable = true)\n",
      " |-- Members: string (nullable = true)\n",
      " |-- Favorites: string (nullable = true)\n",
      " |-- Watching: string (nullable = true)\n",
      " |-- Completed: string (nullable = true)\n",
      " |-- On-Hold: string (nullable = true)\n",
      " |-- Dropped: string (nullable = true)\n",
      "\n",
      "First 10 rows of anime dataset:\n",
      "+--------+--------------------+-----+--------------------+--------------------+------------------------------+--------------------+--------------------+--------------------+--------------------+--------------------+--------------------+--------------------+--------------------+--------------------+--------------------+--------------------+--------------------+--------------------+--------------------+--------------------+--------------------+---------------+--------------------+-------+\n",
      "|anime_id|                Name|Score|              Genres|        English name|                 Japanese name|           sypnopsis|                Type|            Episodes|               Aired|           Premiered|           Producers|           Licensors|             Studios|              Source|            Duration|              Rating|              Ranked|          Popularity|             Members|           Favorites|            Watching|      Completed|             On-Hold|Dropped|\n",
      "+--------+--------------------+-----+--------------------+--------------------+------------------------------+--------------------+--------------------+--------------------+--------------------+--------------------+--------------------+--------------------+--------------------+--------------------+--------------------+--------------------+--------------------+--------------------+--------------------+--------------------+--------------------+---------------+--------------------+-------+\n",
      "|       1|        Cowboy Bebop| 8.78|Action, Adventure...|        Cowboy Bebop|            カウボーイビバップ|\"In the year 2071...| pragmatic partne...| a genetically en...| highly intellige...| an enigmatic tri...| Cowboy Bebop is ...|                  TV|                  26|Apr 3, 1998 to Ap...|         Spring 1998|       Bandai Visual|Funimation, Banda...|             Sunrise|            Original|     24 min. per ep.|R - 17+ (violence...|           28.0|                  39|1251960|\n",
      "|       5|Cowboy Bebop: Ten...| 8.39|Action, Drama, My...|Cowboy Bebop:The ...|   カウボーイビバップ 天国の扉|other day, anothe...|               Movie|                   1|         Sep 1, 2001|             Unknown|Sunrise, Bandai V...|Sony Pictures Ent...|               Bones|            Original|       1 hr. 55 min.|R - 17+ (violence...|               159.0|                 518|              273145|                1174|                4143|         208333|                1935|    770|\n",
      "|       6|              Trigun| 8.24|Action, Sci-Fi, A...|              Trigun|                    トライガン|\"Vash the Stamped...| and anyone can c...| Vash is a huge s...| Vash traverses t...| all the while fo...| Meryl Stryfe and...| who attempt to m...| their misadventu...|                  TV|                  26|Apr 1, 1998 to Se...|         Spring 1998|Victor Entertainment|Funimation, Geneo...|            Madhouse|               Manga|24 min. per ep.|PG-13 - Teens 13 ...|  266.0|\n",
      "|       7|  Witch Hunter Robin| 7.27|Action, Mystery, ...|  Witch Hunter Robin|          Witch Hunter ROBI...|ches are individu...|                  TV|                  26|Jul 2, 2002 to De...|         Summer 2002|TV Tokyo, Bandai ...|Funimation, Banda...|             Sunrise|            Original|     25 min. per ep.|PG-13 - Teens 13 ...|              2481.0|                1467|               94683|                 587|                4300|          46165|                5121|   5378|\n",
      "|       8|      Bouken Ou Beet| 6.98|Adventure, Fantas...|Beet the Vandel B...|                  冒険王ビィト|It is the dark ce...|                  TV|                  52|Sep 30, 2004 to S...|           Fall 2004|    TV Tokyo, Dentsu|             Unknown|      Toei Animation|               Manga|     23 min. per ep.|       PG - Children|              3710.0|                4369|               13224|                  18|                 642|           7314|                 766|   1108|\n",
      "|      15|        Eyeshield 21| 7.95|Action, Sports, C...|             Unknown|                アイシールド21|\"Sena is like any...|\"\" giving him a v...| an annual tourna...| with \"\"Eyeshield...| undersized fresh...|                  TV|                 145|Apr 6, 2005 to Ma...|         Spring 2005|TV Tokyo, Nihon A...|VIZ Media, Sentai...|              Gallop|               Manga|     23 min. per ep.|PG-13 - Teens 13 ...|               604.0|           1003|              148259|   2066|\n",
      "|      16|Hachimitsu to Clover| 8.06|Comedy, Drama, Jo...|    Honey and Clover|          ハチミツとクローバー|Yuuta Takemoto, a...|                  TV|                  24|Apr 15, 2005 to S...|         Spring 2005|Genco, Fuji TV, S...|VIZ Media, Discot...|           J.C.Staff|               Manga|     23 min. per ep.|PG-13 - Teens 13 ...|               468.0|                 687|              214499|                4101|               11909|          81145|               11901|  11026|\n",
      "|      17|Hungry Heart: Wil...| 7.59|Slice of Life, Co...|             Unknown|  ハングリーハート Wild Str...|Kyosuke Kano has ...|                  TV|                  52|Sep 11, 2002 to S...|           Fall 2002|             Unknown|             Unknown|    Nippon Animation|               Manga|     23 min. per ep.|PG-13 - Teens 13 ...|              1317.0|                3612|               20470|                 231|                 817|          13778|                 828|   1168|\n",
      "|      18|Initial D Fourth ...| 8.15|Action, Cars, Spo...|             Unknown|頭文字〈イニシャル〉D FOURT...|\"Takumi Fujiwara ...|\"\" while Keisuke ...| Ryousuke creates...|                  TV|                  24|Apr 17, 2004 to F...|         Spring 2004|OB Planning, Stud...|          Funimation|            A.C.G.T.|               Manga|     27 min. per ep.|PG-13 - Teens 13 ...|               360.0|                1233|              117929|            979|                6082|  90967|\n",
      "|      19|             Monster| 8.76|Drama, Horror, My...|             Monster|                    モンスター|Dr. Kenzou Tenma,...|                  TV|                  74|Apr 7, 2004 to Se...|         Spring 2004|VAP, Shogakukan-S...|           VIZ Media|            Madhouse|               Manga|     24 min. per ep.|    R+ - Mild Nudity|                30.0|                 169|              614100|               29436|               64648|         214491|               47488|  23008|\n",
      "+--------+--------------------+-----+--------------------+--------------------+------------------------------+--------------------+--------------------+--------------------+--------------------+--------------------+--------------------+--------------------+--------------------+--------------------+--------------------+--------------------+--------------------+--------------------+--------------------+--------------------+--------------------+---------------+--------------------+-------+\n",
      "only showing top 10 rows\n",
      "\n"
     ]
    }
   ],
   "source": [
    "# EDA for anime dataset\n",
    "print(\"anime dataset schema:\")\n",
    "anime.printSchema()\n",
    "print(\"First 10 rows of anime dataset:\")\n",
    "anime.show(10)"
   ]
  },
  {
   "cell_type": "code",
   "execution_count": 9,
   "id": "8f5873b8-d071-436a-be83-85c0186722e9",
   "metadata": {},
   "outputs": [],
   "source": [
    "cols_to_drop = ['English name', 'Japanese name', \"Aired\", \"Duration\", \"Premiered\", \"Ranked\", \"Popularity\", \"Members\", \"Favorites\", \"Watching\", \"Completed\", \"On-Hold\", \"Dropped\", \"Producers\", \"Licensors\", \"Studios\"]\n",
    "\n",
    "anime = anime.drop(*cols_to_drop)"
   ]
  },
  {
   "cell_type": "code",
   "execution_count": 10,
   "id": "1fd43e05-dd1c-4544-a088-a178fc21c852",
   "metadata": {},
   "outputs": [
    {
     "name": "stderr",
     "output_type": "stream",
     "text": [
      "[Stage 46:>                                                         (0 + 2) / 2]"
     ]
    },
    {
     "name": "stdout",
     "output_type": "stream",
     "text": [
      "{'Kids', 'Shounen', 'Seinen', 'Mystery', 'Military', 'Slice of Life', 'Drama', 'Psychological', 'Mecha', 'Supernatural', 'Shoujo', 'Harem', 'Comedy', 'Vampire', 'Game', 'Music', 'Romance', 'Parody', '6.51', 'Samurai', 'Thriller', 'Sports', '6.36', 'Yuri', 'Magic', 'Fantasy', 'Martial Arts', 'Dementia', 'Ecchi', '7.14', 'Super Power', 'Demons', 'School', 'Historical', 'Yaoi', 'Sci-Fi', 'Adventure', 'Shounen Ai', 'Josei', 'Shoujo Ai', '6.45', 'Police', 'Cars', 'Unknown', 'Space', 'Horror', 'Hentai', 'Action'}\n"
     ]
    },
    {
     "name": "stderr",
     "output_type": "stream",
     "text": [
      "                                                                                "
     ]
    }
   ],
   "source": [
    "def extract_elements(iterator):\n",
    "    distinct_genres_local = set()\n",
    "    for row in iterator:\n",
    "        if(row[\"Genres\"] != None):\n",
    "            genres_list = row[\"Genres\"].split(\", \")\n",
    "            distinct_genres_local.update(genres_list)\n",
    "    yield distinct_genres_local  # attenzione: questo è un set per partizione\n",
    "\n",
    "# Ottieni i set locali da ogni partizione\n",
    "distinct_genres_sets = anime.rdd.mapPartitions(extract_elements).collect()\n",
    "\n",
    "# Unisci tutti i set (in memoria sul driver, ma dopo aggregazione parziale)\n",
    "distinct_genres = set().union(*distinct_genres_sets)\n",
    "print(distinct_genres)"
   ]
  },
  {
   "cell_type": "code",
   "execution_count": 11,
   "id": "b8a1a323-10a5-42e5-96d9-83fca5b25cda",
   "metadata": {},
   "outputs": [],
   "source": [
    "genres_to_be_removed = [\"6.36\", \"6.45\", \"6.51\", \"7.14\"]"
   ]
  },
  {
   "cell_type": "code",
   "execution_count": 12,
   "id": "bf201cb4-7896-45a1-b083-0c4639b3d0c0",
   "metadata": {},
   "outputs": [],
   "source": [
    "#sostituisce la colonna dei generi in formato stringa con una colonna dei generi in formato array di stringhe, includendo solo i generi validi\n",
    "from pyspark.sql.functions import udf, size, when, array\n",
    "from pyspark.sql.types import ArrayType, StringType\n",
    "\n",
    "def create_genres_list(genres):\n",
    "    genres_list = genres.split(', ') if genres != None else []\n",
    "    genres_list = [x for x in genres_list if x not in genres_to_be_removed]\n",
    "    return genres_list\n",
    "\n",
    "create_genres_list_udf = udf(create_genres_list, ArrayType(StringType()))\n",
    "anime = anime.withColumn(\"genres_list\", create_genres_list_udf(col(\"Genres\")))\n",
    "\n",
    "anime = anime.filter(size(col(\"genres_list\")) > 0)\n",
    "anime = anime.withColumn(\"genres_list\", when(col(\"genres_list\")[0] == \"Unknown\", array()).otherwise(col(\"genres_list\")))\n",
    "anime = anime.drop(\"Genres\")"
   ]
  },
  {
   "cell_type": "code",
   "execution_count": 13,
   "id": "4b513f1c-d1d7-49b8-bd11-c320d04f192d",
   "metadata": {},
   "outputs": [],
   "source": [
    "#from pyspark.sql.functions import when\n",
    "\n",
    "#anime.select(\"Type\").distinct().show(anime.count(), truncate=False)\n",
    "\n",
    "anime = anime.filter(anime[\"Type\"].isin([\"TV\", \"OVA\", \"Special\", \"Movie\", \"Music\", \"ONA\"]))\n",
    "anime = anime.withColumn(\"Type\", when(col(\"Type\").isNull(), \"\").otherwise(col(\"Type\")))\n",
    "#anime.select(\"Type\").distinct().show(anime.count(), truncate=False)"
   ]
  },
  {
   "cell_type": "code",
   "execution_count": 14,
   "id": "5031d49f",
   "metadata": {},
   "outputs": [],
   "source": [
    "#consider only those anime having valuid synopsis\n",
    "anime = anime.withColumn(\"sypnopsis\", when(col(\"sypnopsis\").isin([\"No synopsis information has been added to this title. Help improve our database by adding a synopsis here .\"]) | col(\"sypnopsis\").isNull(), \"\").otherwise(col(\"sypnopsis\")))"
   ]
  },
  {
   "cell_type": "code",
   "execution_count": 15,
   "id": "3f8125de-0f2d-40fd-ac0a-f440512e81c9",
   "metadata": {},
   "outputs": [],
   "source": [
    "#convert number of episodes to int. Inavlid values are converted to None\n",
    "anime = anime.filter(col(\"Episodes\").cast(\"int\").isNotNull())"
   ]
  },
  {
   "cell_type": "code",
   "execution_count": 16,
   "id": "ac368694-6dc9-4f76-9414-e884df289b13",
   "metadata": {},
   "outputs": [
    {
     "name": "stderr",
     "output_type": "stream",
     "text": [
      "[Stage 47:>                                                         (0 + 1) / 1]"
     ]
    },
    {
     "name": "stdout",
     "output_type": "stream",
     "text": [
      "+--------+--------------------+-----+--------------------+-----+--------+-----------+--------------------+--------------------+\n",
      "|anime_id|                Name|Score|           sypnopsis| Type|Episodes|     Source|              Rating|         genres_list|\n",
      "+--------+--------------------+-----+--------------------+-----+--------+-----------+--------------------+--------------------+\n",
      "|       5|Cowboy Bebop: Ten...| 8.39|other day, anothe...|Movie|       1|   Original|R - 17+ (violence...|[Action, Drama, M...|\n",
      "|       7|  Witch Hunter Robin| 7.27|ches are individu...|   TV|      26|   Original|PG-13 - Teens 13 ...|[Action, Mystery,...|\n",
      "|       8|      Bouken Ou Beet| 6.98|It is the dark ce...|   TV|      52|      Manga|       PG - Children|[Adventure, Fanta...|\n",
      "|      16|Hachimitsu to Clover| 8.06|Yuuta Takemoto, a...|   TV|      24|      Manga|PG-13 - Teens 13 ...|[Comedy, Drama, J...|\n",
      "|      17|Hungry Heart: Wil...| 7.59|Kyosuke Kano has ...|   TV|      52|      Manga|PG-13 - Teens 13 ...|[Slice of Life, C...|\n",
      "|      19|             Monster| 8.76|Dr. Kenzou Tenma,...|   TV|      74|      Manga|    R+ - Mild Nudity|[Drama, Horror, M...|\n",
      "|      20|              Naruto| 7.91|oments prior to N...|   TV|     220|      Manga|PG-13 - Teens 13 ...|[Action, Adventur...|\n",
      "|      22| Tennis no Ouji-sama|  7.9|The world of tenn...|   TV|     178|      Manga|PG-13 - Teens 13 ...|[Action, Comedy, ...|\n",
      "|      23|    Ring ni Kakero 1| 6.38|In order to fulfi...|   TV|      12|      Manga|       PG - Children|[Action, Shounen,...|\n",
      "|      27|       Trinity Blood| 7.32|Following Armaged...|   TV|      24|Light novel|R - 17+ (violence...|[Action, Supernat...|\n",
      "+--------+--------------------+-----+--------------------+-----+--------+-----------+--------------------+--------------------+\n",
      "only showing top 10 rows\n",
      "\n"
     ]
    },
    {
     "name": "stderr",
     "output_type": "stream",
     "text": [
      "                                                                                "
     ]
    }
   ],
   "source": [
    "anime.show(10)"
   ]
  },
  {
   "cell_type": "code",
   "execution_count": 17,
   "id": "45f7313e-c9a2-4370-86d0-5d2f7b2a962d",
   "metadata": {},
   "outputs": [
    {
     "name": "stderr",
     "output_type": "stream",
     "text": [
      "[Stage 48:=============================>                            (1 + 1) / 2]"
     ]
    },
    {
     "name": "stdout",
     "output_type": "stream",
     "text": [
      "+-------------+\n",
      "|       Source|\n",
      "+-------------+\n",
      "| Visual novel|\n",
      "|Digital manga|\n",
      "|     Original|\n",
      "|        Novel|\n",
      "| Picture book|\n",
      "|         Book|\n",
      "|      Unknown|\n",
      "|        Other|\n",
      "|        Radio|\n",
      "|        Manga|\n",
      "| 4-koma manga|\n",
      "|        Music|\n",
      "|         Game|\n",
      "|    Web manga|\n",
      "|    Card game|\n",
      "|  Light novel|\n",
      "+-------------+\n",
      "\n"
     ]
    },
    {
     "name": "stderr",
     "output_type": "stream",
     "text": [
      "                                                                                "
     ]
    }
   ],
   "source": [
    "anime.select(\"Source\").distinct().show(100000)"
   ]
  },
  {
   "cell_type": "code",
   "execution_count": 18,
   "id": "c01054b9-6d4d-4c53-a569-3f696131fda9",
   "metadata": {},
   "outputs": [
    {
     "name": "stdout",
     "output_type": "stream",
     "text": [
      "+-------------+\n",
      "|       Source|\n",
      "+-------------+\n",
      "| Visual novel|\n",
      "|Digital manga|\n",
      "|     Original|\n",
      "|        Novel|\n",
      "| Picture book|\n",
      "|         Book|\n",
      "|        Other|\n",
      "|        Radio|\n",
      "|        Manga|\n",
      "| 4-koma manga|\n",
      "|        Music|\n",
      "|         Game|\n",
      "|    Web manga|\n",
      "|    Card game|\n",
      "|             |\n",
      "|  Light novel|\n",
      "+-------------+\n",
      "\n"
     ]
    }
   ],
   "source": [
    "anime = anime.withColumn(\"Source\", when(col(\"Source\") == \"Unknown\", \"\").otherwise(col(\"Source\")))\n",
    "anime.select(\"Source\").distinct().show()"
   ]
  },
  {
   "cell_type": "code",
   "execution_count": 19,
   "id": "85cdbf43-259d-4521-b7dd-c378c460b56d",
   "metadata": {},
   "outputs": [
    {
     "name": "stdout",
     "output_type": "stream",
     "text": [
      "+--------------------+\n",
      "|              Rating|\n",
      "+--------------------+\n",
      "|R - 17+ (violence...|\n",
      "|        G - All Ages|\n",
      "|             Unknown|\n",
      "|       PG - Children|\n",
      "|    R+ - Mild Nudity|\n",
      "|PG-13 - Teens 13 ...|\n",
      "|         Rx - Hentai|\n",
      "+--------------------+\n",
      "\n"
     ]
    }
   ],
   "source": [
    "anime.select(\"Rating\").distinct().show(10)"
   ]
  },
  {
   "cell_type": "code",
   "execution_count": 20,
   "id": "415f0353-acb3-4e8e-9418-642c1e2a8a0c",
   "metadata": {},
   "outputs": [],
   "source": [
    "anime = anime.withColumn(\"Rating\", when(col(\"Rating\") == \"Unknown\", \"\").otherwise(col(\"Rating\")))"
   ]
  },
  {
   "cell_type": "code",
   "execution_count": 21,
   "id": "2d922362-1cd2-47dc-858a-41ffb707330f",
   "metadata": {},
   "outputs": [
    {
     "name": "stderr",
     "output_type": "stream",
     "text": [
      "                                                                                "
     ]
    },
    {
     "name": "stdout",
     "output_type": "stream",
     "text": [
      "+--------+-------+------+\n",
      "|anime_id|user_id|rating|\n",
      "+--------+-------+------+\n",
      "|    3229|      1|     6|\n",
      "|   28805|      4|     8|\n",
      "|   14353|      4|     7|\n",
      "|    6702|     20|     6|\n",
      "|    1362|     47|     2|\n",
      "|     379|     47|     6|\n",
      "|      45|     47|     6|\n",
      "|    1858|     48|     7|\n",
      "|    5978|     48|     6|\n",
      "|     323|     48|     5|\n",
      "+--------+-------+------+\n",
      "only showing top 10 rows\n",
      "\n",
      "Numero di anime con valutazione: 6675\n"
     ]
    }
   ],
   "source": [
    "#Keep only the ratings of anime in \"anime\"\n",
    "\n",
    "ratings_sampled = ratings_sampled.withColumn(\"rating\", col(\"rating\").cast(\"int\")).filter(col(\"rating\").isNotNull())\n",
    "\n",
    "ratings_sampled = ratings_sampled.join(anime.select(\"anime_id\"), on=\"anime_id\", how=\"inner\")\n",
    "\n",
    "ratings_sampled.cache()\n",
    "ratings_sampled.show(10)\n",
    "print(f\"Numero di anime con valutazione: {ratings_sampled.select(\"anime_id\").distinct().count()}\")"
   ]
  },
  {
   "cell_type": "code",
   "execution_count": 22,
   "id": "21c142ab-7826-4b8c-b22d-64ad44711c18",
   "metadata": {},
   "outputs": [
    {
     "data": {
      "text/plain": [
       "162254"
      ]
     },
     "execution_count": 22,
     "metadata": {},
     "output_type": "execute_result"
    }
   ],
   "source": [
    "ratings_sampled.count()"
   ]
  },
  {
   "cell_type": "code",
   "execution_count": 23,
   "id": "7930bfcd-cb78-48d6-b00e-99c004205ae7",
   "metadata": {},
   "outputs": [
    {
     "name": "stderr",
     "output_type": "stream",
     "text": [
      "                                                                                "
     ]
    }
   ],
   "source": [
    "ratings_path = \"hdfs:///ratings\"\n",
    "ratings_sampled.write.format(\"parquet\").mode(\"overwrite\").option(\"header\", True).save(ratings_path)"
   ]
  },
  {
   "cell_type": "markdown",
   "id": "0fa57901-bc03-4676-ab7d-43fb455201d1",
   "metadata": {},
   "source": [
    "# Prepare anime subset for content based filtering"
   ]
  },
  {
   "cell_type": "code",
   "execution_count": 21,
   "id": "b85b3752-d194-459b-b552-8a24e497121e",
   "metadata": {},
   "outputs": [
    {
     "name": "stdout",
     "output_type": "stream",
     "text": [
      "Numero di anime per content base filtering: 8199\n"
     ]
    }
   ],
   "source": [
    "anime_cbf = anime.filter((col(\"sypnopsis\") != \"\") & (size(col(\"genres_list\")) > 0) & (col(\"Source\") != \"\") & (col(\"Rating\") != \"\") & (col(\"Type\") != \"\"))\n",
    "\n",
    "print(f\"Numero di anime per content base filtering: {anime_cbf.count()}\")"
   ]
  },
  {
   "cell_type": "code",
   "execution_count": 22,
   "id": "d8bae98d-c696-4727-b310-919d4ba467c9",
   "metadata": {},
   "outputs": [
    {
     "name": "stderr",
     "output_type": "stream",
     "text": [
      "                                                                                "
     ]
    }
   ],
   "source": [
    "#Vettorizzazione di sypnopsis\n",
    "from pyspark.ml.feature import Tokenizer, StopWordsRemover, HashingTF, IDF\n",
    "\n",
    "tokenizer = Tokenizer(inputCol=\"sypnopsis\", outputCol=\"words\")\n",
    "remover = StopWordsRemover(inputCol=\"words\", outputCol=\"filtered_words\")\n",
    "hashingTF = HashingTF(inputCol=\"filtered_words\", outputCol=\"rawFeatures\", numFeatures=5000)\n",
    "idf = IDF(inputCol=\"rawFeatures\", outputCol=\"tfidfFeatures\")\n",
    "\n",
    "pipeline = Pipeline(stages=[tokenizer, remover, hashingTF, idf])\n",
    "model = pipeline.fit(anime_cbf)\n",
    "anime_cbf = model.transform(anime_cbf)"
   ]
  },
  {
   "cell_type": "code",
   "execution_count": 23,
   "id": "dc1d11bd-2fbb-4263-9324-529a55ba18a6",
   "metadata": {},
   "outputs": [
    {
     "name": "stderr",
     "output_type": "stream",
     "text": [
      "                                                                                "
     ]
    }
   ],
   "source": [
    "#One-Hot-Encoding di \"Source\", \"Rating\", \"Type\"\n",
    "from pyspark.ml.feature import StringIndexer, OneHotEncoder\n",
    "\n",
    "categorical_cols = ['Source', 'Rating', 'Type']\n",
    "indexers = [StringIndexer(inputCol=c, outputCol=c+\"_idx\") for c in categorical_cols]\n",
    "encoders = [OneHotEncoder(inputCol=c+\"_idx\", outputCol=c+\"_vec\") for c in categorical_cols]\n",
    "\n",
    "# Esegui le trasformazioni\n",
    "for idx, enc in zip(indexers, encoders):\n",
    "    anime_cbf = idx.fit(anime_cbf).transform(anime_cbf)\n",
    "    anime_cbf = enc.fit(anime_cbf).transform(anime_cbf)"
   ]
  },
  {
   "cell_type": "code",
   "execution_count": 24,
   "id": "4bb0073d-d747-4c66-942d-93bfc6c9f2b8",
   "metadata": {},
   "outputs": [
    {
     "name": "stderr",
     "output_type": "stream",
     "text": [
      "                                                                                "
     ]
    }
   ],
   "source": [
    "#Multi-Hot-Encoding di genres_list (In this case CountVectorizer is equivalent to MHE)\n",
    "from pyspark.ml.feature import CountVectorizer\n",
    "\n",
    "cv = CountVectorizer(inputCol=\"genres_list\", outputCol=\"genres_vec\")\n",
    "cv_model = cv.fit(anime_cbf)\n",
    "anime_cbf = cv_model.transform(anime_cbf)\n"
   ]
  },
  {
   "cell_type": "code",
   "execution_count": 25,
   "id": "d9dba401-a8e9-4ada-b84f-c086e78c8145",
   "metadata": {},
   "outputs": [],
   "source": [
    "from pyspark.ml.feature import VectorAssembler\n",
    "\n",
    "assembler = VectorAssembler(\n",
    "    inputCols=[\"tfidfFeatures\", \"Source_vec\", \"Rating_vec\", \"Type_vec\", \"genres_vec\"],\n",
    "    outputCol=\"combined_features\"\n",
    ")\n",
    "anime_cbf = assembler.transform(anime_cbf)\n",
    "anime_cbf = anime_cbf.select(\"anime_id\", \"combined_features\")\n"
   ]
  },
  {
   "cell_type": "code",
   "execution_count": 26,
   "id": "8eb9ee07-01d4-408f-b8c4-c526ad848187",
   "metadata": {},
   "outputs": [
    {
     "name": "stderr",
     "output_type": "stream",
     "text": [
      "25/05/22 21:46:32 WARN DAGScheduler: Broadcasting large task binary with size 1071.1 KiB\n",
      "25/05/22 21:47:25 WARN DAGScheduler: Broadcasting large task binary with size 1077.4 KiB\n",
      "25/05/22 21:47:25 WARN DAGScheduler: Broadcasting large task binary with size 1077.4 KiB\n"
     ]
    },
    {
     "name": "stdout",
     "output_type": "stream",
     "text": [
      "+--------+--------------------+\n",
      "|anime_id|      similar_animes|\n",
      "+--------+--------------------+\n",
      "|     148|[{41545, 0.290830...|\n",
      "|    2366|[{36752, 0.200686...|\n",
      "|   24171|[{31327, 0.518369...|\n",
      "|   24347|[{2245, 0.4312990...|\n",
      "|   31236|[{31244, 0.255097...|\n",
      "|   38220|[{37184, 0.603756...|\n",
      "|   38422|[{39570, 0.183520...|\n",
      "|    4158|[{8619, 0.2802179...|\n",
      "|    4190|[{632, 0.42003983...|\n",
      "|   12715|[{12223, 0.361718...|\n",
      "+--------+--------------------+\n",
      "only showing top 10 rows\n",
      "\n"
     ]
    }
   ],
   "source": [
    "from pyspark.sql.functions import col, expr, row_number, collect_list, struct\n",
    "from pyspark.sql.window import Window\n",
    "from pyspark.ml.linalg import Vectors, VectorUDT\n",
    "from pyspark.sql.functions import udf\n",
    "import numpy as np\n",
    "from numpy import dot\n",
    "from numpy.linalg import norm\n",
    "from pyspark.sql.types import DoubleType, IntegerType, StructType, ArrayType, StructField\n",
    "\n",
    "# Cosine similarity UDF\n",
    "def cosine_similarity(v1, v2):\n",
    "    v1 = np.array(v1.toArray())\n",
    "    v2 = np.array(v2.toArray())\n",
    "    denom = norm(v1) * norm(v2)\n",
    "    if denom == 0:\n",
    "        return float(0.0)\n",
    "    return float(dot(v1, v2) / denom)\n",
    "\n",
    "cosine_similarity_udf = udf(cosine_similarity, DoubleType())\n",
    "\n",
    "# 1. Esegui una self-join (crossJoin)\n",
    "anime_cbf_blocks = anime_cbf.randomSplit([0.125, 0.125, 0.125, 0.125, 0.125, 0.125, 0.125, 0.125], seed='40')\n",
    "\n",
    "similar_anime_struct = StructType([\n",
    "    StructField(\"anime_id\", IntegerType(),True),\n",
    "    StructField(\"similarity\", DoubleType(),True)])\n",
    "\n",
    "schema = StructType([\n",
    "    StructField(\"anime_id\", IntegerType(),True),\n",
    "    StructField(\"similar_animes\", ArrayType(similar_anime_struct),True)])\n",
    "\n",
    "top_similar = spark.createDataFrame([], schema)\n",
    "\n",
    "\n",
    "for a_cbf_block in anime_cbf_blocks:\n",
    "    \n",
    "    anime_pairs = a_cbf_block.alias(\"a\").crossJoin(anime_cbf.alias(\"b\")) \\\n",
    "        .filter(col(\"a.anime_id\") != col(\"b.anime_id\"))\n",
    "    \n",
    "    #anime_pairs.persist(pyspark.StorageLevel.MEMORY_AND_DISK)\n",
    "    \n",
    "    # 2. Calcola la similarità\n",
    "    anime_similarities = anime_pairs.withColumn(\n",
    "        \"similarity\",\n",
    "        cosine_similarity_udf(col(\"a.combined_features\"), col(\"b.combined_features\"))\n",
    "    ).select(\n",
    "        col(\"a.anime_id\").alias(\"anime_id\"),\n",
    "        col(\"b.anime_id\").alias(\"similar_anime_id\"),\n",
    "        col(\"similarity\")\n",
    "    )\n",
    "    \n",
    "    # 3. Aggiungi un ranking per top-N\n",
    "    windowSpec = Window.partitionBy(\"anime_id\").orderBy(col(\"similarity\").desc())\n",
    "    \n",
    "    top_n = 10\n",
    "    \n",
    "    anime_top_n = anime_similarities.withColumn(\n",
    "        \"rank\", row_number().over(windowSpec)\n",
    "    ).filter(col(\"rank\") <= top_n)\n",
    "    \n",
    "    # 4. Raggruppa i risultati in array\n",
    "    anime_top_n_grouped = anime_top_n.groupBy(\"anime_id\").agg(\n",
    "        collect_list(struct(col(\"similar_anime_id\").alias(\"anime_id\"), col(\"similarity\"))).alias(\"similar_animes\")\n",
    "    )\n",
    "\n",
    "    top_similar = top_similar.union(anime_top_n_grouped)\n",
    "\n",
    "# Risultato finale\n",
    "top_similar.cache()\n",
    "top_similar.show(10)"
   ]
  },
  {
   "cell_type": "code",
   "execution_count": 27,
   "id": "3d1375c6-e2e2-43d8-90bc-70909e43f5a6",
   "metadata": {},
   "outputs": [
    {
     "name": "stderr",
     "output_type": "stream",
     "text": [
      "25/05/22 21:47:27 WARN DAGScheduler: Broadcasting large task binary with size 1276.8 KiB\n",
      "                                                                                "
     ]
    }
   ],
   "source": [
    "dataframe_path = \"hdfs:///dataframe\"\n",
    "top_similar.write.format(\"parquet\").mode(\"overwrite\").option(\"header\", True).save(dataframe_path)"
   ]
  },
  {
   "cell_type": "code",
   "execution_count": 4,
   "id": "15f9125c-c592-4dad-a151-91b17e1c8745",
   "metadata": {},
   "outputs": [
    {
     "name": "stderr",
     "output_type": "stream",
     "text": [
      "                                                                                "
     ]
    }
   ],
   "source": [
    "# Percorso alla cartella su HDFS (sostituisci con il tuo percorso reale)\n",
    "top_similars_path = \"hdfs:///dataframe\"\n",
    "\n",
    "# Leggi tutti i file parquet nella cartella\n",
    "top_similars = spark.read.parquet(top_similars_path).cache()"
   ]
  },
  {
   "cell_type": "markdown",
   "id": "9664128d-2cea-45da-9c36-9b8ffe28ea75",
   "metadata": {},
   "source": [
    "# Collaborative filtering algorithm (ALS)"
   ]
  },
  {
   "cell_type": "code",
   "execution_count": 24,
   "id": "13297b1e",
   "metadata": {
    "ExecuteTime": {
     "end_time": "2024-06-08T14:07:12.937206Z",
     "start_time": "2024-06-08T14:07:10.596745Z"
    }
   },
   "outputs": [
    {
     "name": "stderr",
     "output_type": "stream",
     "text": [
      "                                                                                "
     ]
    },
    {
     "name": "stdout",
     "output_type": "stream",
     "text": [
      "Total training ratings: 129872\n",
      "Total test ratings: 32382\n"
     ]
    }
   ],
   "source": [
    "# Split data in training and test\n",
    "(training, test) = ratings_sampled.randomSplit([0.8, 0.2], seed='40')\n",
    "\n",
    "print(\"Total training ratings:\", training.count())\n",
    "print(\"Total test ratings:\", test.count())"
   ]
  },
  {
   "cell_type": "code",
   "execution_count": 25,
   "id": "a577e1db",
   "metadata": {
    "ExecuteTime": {
     "end_time": "2024-06-08T14:07:52.305850Z",
     "start_time": "2024-06-08T14:07:52.104570Z"
    }
   },
   "outputs": [],
   "source": [
    "# Configure ALS algorithm\n",
    "#als = ALS(userCol=\"userId\", itemCol=\"anime_id\", ratingCol=\"rating\", coldStartStrategy=\"drop\", maxIter=10, regParam=0.5, rank=40)\n",
    "als = ALS(userCol=\"user_id\", itemCol=\"anime_id\", ratingCol=\"rating\", coldStartStrategy=\"drop\")\n",
    "\n",
    "# create pipeline\n",
    "pipeline = Pipeline(stages=[als])\n",
    "\n",
    "param_grid = ParamGridBuilder() \\\n",
    "    .addGrid(als.rank, [10, 30, 40]) \\\n",
    "    .addGrid(als.regParam, [0.01, 0.1, 0.5]) \\\n",
    "    .addGrid(als.maxIter, [10]) \\\n",
    "    .build()\n",
    "\n",
    "evaluator = RegressionEvaluator(metricName=\"rmse\", labelCol=\"rating\", predictionCol=\"prediction\")\n",
    "\n",
    "cross_validator = CrossValidator(estimator=pipeline,\n",
    "                                 estimatorParamMaps=param_grid,\n",
    "                                 evaluator=evaluator,\n",
    "                                 numFolds=3)                                 \n"
   ]
  },
  {
   "cell_type": "code",
   "execution_count": 26,
   "id": "09eeeba6",
   "metadata": {
    "ExecuteTime": {
     "end_time": "2024-06-08T14:39:21.010465Z",
     "start_time": "2024-06-08T14:07:55.091732Z"
    }
   },
   "outputs": [
    {
     "name": "stderr",
     "output_type": "stream",
     "text": [
      "                                                                                "
     ]
    }
   ],
   "source": [
    "# Fit the model on training data\n",
    "#model=pipeline.fit(training)\n",
    "cv_model = cross_validator.fit(training)\n",
    "model = cv_model.bestModel\n"
   ]
  },
  {
   "cell_type": "code",
   "execution_count": 27,
   "id": "c2ae56f9",
   "metadata": {
    "ExecuteTime": {
     "end_time": "2024-06-08T14:41:07.315135Z",
     "start_time": "2024-06-08T14:41:07.210380Z"
    }
   },
   "outputs": [
    {
     "name": "stdout",
     "output_type": "stream",
     "text": [
      "40\n",
      "10\n",
      "0.5\n"
     ]
    }
   ],
   "source": [
    "print(model.stages[0].rank) \n",
    "print(model.stages[0]._java_obj.parent().getMaxIter()) \n",
    "print(model.stages[0]._java_obj.parent().getRegParam()) \n",
    "\n",
    "# Model prediction\n",
    "predictions = model.transform(test)"
   ]
  },
  {
   "cell_type": "code",
   "execution_count": 28,
   "id": "933103fa",
   "metadata": {
    "ExecuteTime": {
     "end_time": "2024-06-08T14:42:04.885144Z",
     "start_time": "2024-06-08T14:41:58.865656Z"
    }
   },
   "outputs": [
    {
     "name": "stderr",
     "output_type": "stream",
     "text": [
      "                                                                                "
     ]
    },
    {
     "name": "stdout",
     "output_type": "stream",
     "text": [
      "Root-mean-square error = 2.3258878695370018\n",
      "Mean Absolute Error = 1.8648179615182792\n"
     ]
    }
   ],
   "source": [
    "#SCORES\n",
    "#evaluator = RegressionEvaluator(metricName=\"rmse\", labelCol=\"rating\", predictionCol=\"prediction\")\n",
    "rmse = evaluator.evaluate(predictions)\n",
    "mae_evaluator = RegressionEvaluator(metricName=\"mae\", labelCol=\"rating\", predictionCol=\"prediction\")\n",
    "mae = mae_evaluator.evaluate(predictions)\n",
    "\n",
    "print(f\"Root-mean-square error = {rmse}\") \n",
    "print(f\"Mean Absolute Error = {mae}\")"
   ]
  },
  {
   "cell_type": "code",
   "execution_count": null,
   "id": "47a092cf",
   "metadata": {
    "ExecuteTime": {
     "end_time": "2024-06-08T14:42:55.571848Z",
     "start_time": "2024-06-08T14:42:46.653341Z"
    }
   },
   "outputs": [
    {
     "name": "stderr",
     "output_type": "stream",
     "text": [
      "[Stage 3093:=================================================>     (9 + 1) / 10]"
     ]
    }
   ],
   "source": [
    "#Save model in hdfs (Optional)\n",
    "model_path = \"hdfs:///model\"\n",
    "model.write().overwrite().save(model_path)"
   ]
  },
  {
   "cell_type": "code",
   "execution_count": 4,
   "id": "e7f99661",
   "metadata": {
    "ExecuteTime": {
     "end_time": "2024-06-08T14:43:03.421947Z",
     "start_time": "2024-06-08T14:43:02.780322Z"
    }
   },
   "outputs": [
    {
     "name": "stdout",
     "output_type": "stream",
     "text": [
      "userRecs dataset schema:\n",
      "root\n",
      " |-- user_id: integer (nullable = false)\n",
      " |-- recommendations: array (nullable = true)\n",
      " |    |-- element: struct (containsNull = true)\n",
      " |    |    |-- anime_id: integer (nullable = true)\n",
      " |    |    |-- rating: float (nullable = true)\n",
      "\n"
     ]
    }
   ],
   "source": [
    "#get 5 anime recommendations for users\n",
    "userRecs = model.stages[0].recommendForAllUsers(5).cache()  \n",
    "print(\"userRecs dataset schema:\")\n",
    "userRecs.printSchema()"
   ]
  },
  {
   "cell_type": "code",
   "execution_count": 5,
   "id": "9478b1ff",
   "metadata": {
    "ExecuteTime": {
     "end_time": "2024-06-08T14:51:13.949231Z",
     "start_time": "2024-06-08T14:43:38.402712Z"
    }
   },
   "outputs": [
    {
     "name": "stderr",
     "output_type": "stream",
     "text": [
      "                                                                                "
     ]
    }
   ],
   "source": [
    "# Save recommendation in hdfs (Optional)\n",
    "recommendation_path = \"hdfs:///output\"\n",
    "userRecs.write.format(\"parquet\").mode(\"overwrite\").option(\"overwrite\", True).save(recommendation_path)\n"
   ]
  },
  {
   "cell_type": "markdown",
   "id": "08f5deda-2fef-4941-9e9a-cac345c71801",
   "metadata": {},
   "source": [
    "# Load data to Neo4j"
   ]
  },
  {
   "cell_type": "code",
   "execution_count": 3,
   "id": "1a0e1920",
   "metadata": {
    "ExecuteTime": {
     "end_time": "2024-06-08T14:52:44.584249Z",
     "start_time": "2024-06-08T14:52:44.559690Z"
    }
   },
   "outputs": [],
   "source": [
    "# Connection to Neo4j\n",
    "uri = \"bolt://localhost:7687\"\n",
    "driver = GraphDatabase.driver(uri, auth=(\"neo4j\", \"bigdata\"))"
   ]
  },
  {
   "cell_type": "code",
   "execution_count": 5,
   "id": "97d6bfbb",
   "metadata": {
    "ExecuteTime": {
     "end_time": "2024-06-08T14:53:58.036779Z",
     "start_time": "2024-06-08T14:53:15.386610Z"
    }
   },
   "outputs": [],
   "source": [
    "# Delete all from Neo4j\n",
    "def delete_all(tx):\n",
    "    tx.run(\"MATCH ()-[r:SIMILAR_TO]->() DELETE r\") #delete all relationships\n",
    "    # tx.run(\"MATCH (n:User) DELETE n\") #delete all nodes\n",
    "           \n",
    "with driver.session() as session:\n",
    "    session.execute_write(delete_all)"
   ]
  },
  {
   "cell_type": "code",
   "execution_count": 25,
   "id": "5b7213d6",
   "metadata": {
    "ExecuteTime": {
     "end_time": "2024-06-08T14:55:00.471775Z",
     "start_time": "2024-06-08T14:54:59.103712Z"
    }
   },
   "outputs": [],
   "source": [
    "# create nodes Genre for anime genres\n",
    "def create_genre_node(tx, name):\n",
    "    tx.run(\"MERGE (:Genre {name: $name})\",\n",
    "           name=name)\n",
    "    \n",
    "with driver.session() as session:\n",
    "    for genre in distinct_genres:\n",
    "        session.execute_write(create_genre_node, genre)"
   ]
  },
  {
   "cell_type": "code",
   "execution_count": 27,
   "id": "4c286866-c73b-4ca0-a91b-d80b6c01c136",
   "metadata": {},
   "outputs": [],
   "source": [
    "# create nodes Genre for anime genres\n",
    "\n",
    "distinct_types = anime.select(\"Type\").filter(col(\"Type\") != \"\").distinct().collect()\n",
    "\n",
    "def create_type_node(tx, name):\n",
    "    tx.run(\"MERGE (:Type {name: $name})\",\n",
    "           name=name)\n",
    "    \n",
    "with driver.session() as session:\n",
    "    for t in distinct_types:\n",
    "        session.execute_write(create_type_node, t.Type)"
   ]
  },
  {
   "cell_type": "code",
   "execution_count": 28,
   "id": "35de4908-837b-46a8-997c-cca05925b511",
   "metadata": {},
   "outputs": [],
   "source": [
    "distinct_sources = anime.select(\"Source\").filter(col(\"Source\") != \"\").distinct().collect()\n",
    "\n",
    "def create_source_node(tx, name):\n",
    "    tx.run(\"MERGE (:Source {name: $name})\",\n",
    "           name=name)\n",
    "    \n",
    "with driver.session() as session:\n",
    "    for source in distinct_sources:\n",
    "        session.execute_write(create_source_node, source.Source)"
   ]
  },
  {
   "cell_type": "code",
   "execution_count": 29,
   "id": "1327a1fa-625a-4167-bc4b-7afc9419abd9",
   "metadata": {},
   "outputs": [],
   "source": [
    "distinct_ratings = anime.select(\"Rating\").filter(col(\"Rating\") != \"\").distinct().collect()\n",
    "\n",
    "def create_rating_node(tx, name):\n",
    "    tx.run(\"MERGE (:Rating {name: $name})\",\n",
    "           name=name)\n",
    "    \n",
    "with driver.session() as session:\n",
    "    for rating in distinct_ratings:\n",
    "        session.execute_write(create_rating_node, rating.Rating)"
   ]
  },
  {
   "cell_type": "code",
   "execution_count": 32,
   "id": "7f6a9863-46b7-4f74-8e66-89d924721a97",
   "metadata": {},
   "outputs": [
    {
     "name": "stderr",
     "output_type": "stream",
     "text": [
      "                                                                                "
     ]
    }
   ],
   "source": [
    "def create_anime(tx, anime_id, name, synopsis, episodes, score, genres_list, anime_type, source, rating):\n",
    "    tx.run(\"MERGE (a:Anime {id: $anime_id, title: $name, synopsis: $synopsis, episodes: $episodes, average_score: $score}) \",\n",
    "           anime_id=anime_id, name=name, synopsis=synopsis, episodes=episodes, score=score)\n",
    "    for genre in genres_list:\n",
    "        tx.run(\n",
    "            \"MATCH (a:Anime {id: $anime_id}), (g:Genre {name: $genre})\"\n",
    "            \"MERGE (a)-[:BELONGS_TO_GENRE]->(g)\",\n",
    "            anime_id=anime_id, genre=genre)\n",
    "    tx.run(\n",
    "        \"MATCH (a:Anime {id: $anime_id}), (t:Type {name: $anime_type})\"\n",
    "        \"MERGE (a)-[:TYPE]->(t)\",\n",
    "        anime_id=anime_id, anime_type=anime_type)\n",
    "\n",
    "    tx.run(\n",
    "        \"MATCH (a:Anime {id: $anime_id}), (s:Source {name: $source})\"\n",
    "        \"MERGE (a)-[:ADAPTED_FROM]->(s)\",\n",
    "        anime_id=anime_id, source=source)\n",
    "\n",
    "    tx.run(\n",
    "        \"MATCH (a:Anime {id: $anime_id}), (r:Rating {name: $rating})\"\n",
    "        \"MERGE (a)-[:HAS_RATING]->(r)\",\n",
    "        anime_id=anime_id, rating=rating)\n",
    "\n",
    "with driver.session() as session:\n",
    "    for a in anime.collect():\n",
    "        session.execute_write(create_anime, a.anime_id, a.Name, a.sypnopsis, a.Episodes, a.Score, a.genres_list, a.Type, a.Source, a.Rating)"
   ]
  },
  {
   "cell_type": "code",
   "execution_count": 29,
   "id": "8201d9b1-942c-4e76-aab4-7139c817d315",
   "metadata": {},
   "outputs": [
    {
     "name": "stderr",
     "output_type": "stream",
     "text": [
      "                                                                                "
     ]
    }
   ],
   "source": [
    "users_who_rated = ratings_sampled.select(\"user_id\").distinct().join(users, on=\"user_id\", how=\"inner\")\n",
    "print(users_who_rated.count())\n",
    "\n",
    "def create_user_node(tx, user_id, username):\n",
    "    tx.run(\"MERGE (u:User {user_id: $user_id, username: $username})\",\n",
    "            user_id=user_id, username=username)\n",
    "\n",
    "with driver.session() as session:\n",
    "    for row in users_who_rated.collect():\n",
    "        session.execute_write(create_user_node, row.user_id, row.Username)"
   ]
  },
  {
   "cell_type": "code",
   "execution_count": 31,
   "id": "d78bd475-ffae-48ad-801c-8d996eeb22fa",
   "metadata": {},
   "outputs": [
    {
     "name": "stdout",
     "output_type": "stream",
     "text": [
      "+--------+-------+------+\n",
      "|anime_id|user_id|rating|\n",
      "+--------+-------+------+\n",
      "|    3229|      1|     6|\n",
      "|   28805|      4|     8|\n",
      "|   14353|      4|     7|\n",
      "|    6702|     20|     6|\n",
      "|    1362|     47|     2|\n",
      "+--------+-------+------+\n",
      "only showing top 5 rows\n",
      "\n"
     ]
    }
   ],
   "source": [
    "import numpy as np\n",
    "import math\n",
    "\n",
    "ratings_sampled.show(5)\n",
    "\n",
    "def create_user_ratings(tx,row):\n",
    "    tx.run(\"\"\"\n",
    "           MATCH (u:User {user_id: $user_id})\n",
    "           MATCH (a:Anime {id: $anime_id})\n",
    "           MERGE (u)-[:RATED {rating: $rating}]->(a)\n",
    "           \"\"\",\n",
    "           user_id=row.user_id, anime_id=row.anime_id, rating=row.rating)\n",
    "\n",
    "weights = np.full(math.ceil(ratings_sampled.count()/5000), 1.0).tolist()\n",
    "ratings_split = ratings_sampled.randomSplit(weights, seed=40)\n",
    "\n",
    "with driver.session() as session:\n",
    "    for split in ratings_split:\n",
    "        for row in split.collect():\n",
    "           session.execute_write(create_user_ratings,row)"
   ]
  },
  {
   "cell_type": "code",
   "execution_count": 8,
   "id": "7f7f4d59",
   "metadata": {
    "ExecuteTime": {
     "end_time": "2024-06-08T15:25:27.806477Z",
     "start_time": "2024-06-08T15:24:46.468519Z"
    }
   },
   "outputs": [
    {
     "name": "stderr",
     "output_type": "stream",
     "text": [
      "                                                                                "
     ]
    }
   ],
   "source": [
    "# create relations :RECOMMENDED\n",
    "def create_recommendations(tx, user_id, recs):\n",
    "    for rec in recs:\n",
    "        tx.run(\"\"\"\n",
    "                MATCH (u:User {user_id: $user_id})\n",
    "                MATCH (a:Anime {id: $anime_id})\n",
    "                MERGE (u)-[:RECOMMENDED{rating: $rating}]->(a)\n",
    "                \"\"\",\n",
    "               user_id=user_id, anime_id=rec.anime_id, rating=rec.rating)\n",
    "\n",
    "with driver.session() as session:\n",
    "    for row in userRecs.collect():\n",
    "        recs = row.recommendations\n",
    "        recs = recs if isinstance(recs, list) else [recs]\n",
    "        session.execute_write(create_recommendations, row.user_id, recs)"
   ]
  },
  {
   "cell_type": "code",
   "execution_count": 6,
   "id": "ffb8362c-a3db-410c-923c-109b467592c1",
   "metadata": {},
   "outputs": [
    {
     "name": "stderr",
     "output_type": "stream",
     "text": [
      "                                                                                "
     ]
    }
   ],
   "source": [
    "def create_similar(tx, anime1_id, recs):\n",
    "    for rec in recs:\n",
    "        tx.run(\"\"\"\n",
    "                MATCH (a1:Anime {id: $anime1_id})\n",
    "                MATCH (a2:Anime {id: $anime2_id})\n",
    "                MERGE (a1)-[:SIMILAR_TO{similarity: $similarity}]->(a2)\n",
    "                \"\"\",\n",
    "               anime1_id=anime1_id, anime2_id=rec.anime_id, similarity=rec.similarity)\n",
    "\n",
    "with driver.session() as session:\n",
    "    for row in top_similars.collect():\n",
    "        recs = row.similar_animes\n",
    "        recs = recs if isinstance(recs, list) else [recs]\n",
    "        session.execute_write(create_similar, row.anime_id, recs)"
   ]
  },
  {
   "cell_type": "code",
   "execution_count": null,
   "id": "7fe9ffe0",
   "metadata": {
    "ExecuteTime": {
     "end_time": "2024-06-08T15:25:48.492719Z",
     "start_time": "2024-06-08T15:25:46.383695Z"
    }
   },
   "outputs": [],
   "source": [
    "#close all\n",
    "driver.close()\n",
    "spark.stop()"
   ]
  }
 ],
 "metadata": {
  "kernelspec": {
   "display_name": "Python 3 (ipykernel)",
   "language": "python",
   "name": "python3"
  },
  "language_info": {
   "codemirror_mode": {
    "name": "ipython",
    "version": 3
   },
   "file_extension": ".py",
   "mimetype": "text/x-python",
   "name": "python",
   "nbconvert_exporter": "python",
   "pygments_lexer": "ipython3",
   "version": "3.12.3"
  }
 },
 "nbformat": 4,
 "nbformat_minor": 5
}
